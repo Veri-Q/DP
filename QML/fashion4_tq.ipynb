{
 "cells": [
  {
   "cell_type": "code",
   "execution_count": 1,
   "metadata": {},
   "outputs": [],
   "source": [
    "import torch\n",
    "import torch.nn.functional as F\n",
    "import torch.optim as optim\n",
    "\n",
    "from torchpack.utils.config import configs\n",
    "\n",
    "from torchquantum.datasets import MNIST\n",
    "from torch.optim.lr_scheduler import CosineAnnealingLR\n",
    "\n",
    "import random\n",
    "import numpy as np"
   ]
  },
  {
   "cell_type": "code",
   "execution_count": 2,
   "metadata": {},
   "outputs": [],
   "source": [
    "def train(dataflow, model, device, optimizer):\n",
    "    for feed_dict in dataflow['train']:\n",
    "        inputs = feed_dict['image'].to(device)\n",
    "        targets = feed_dict['digit'].to(device)\n",
    "\n",
    "        outputs = model(inputs)\n",
    "        loss = F.nll_loss(outputs, targets)\n",
    "        optimizer.zero_grad()\n",
    "        loss.backward()\n",
    "        optimizer.step()\n",
    "        print(f\"loss: {loss.item()}\", end='\\r')"
   ]
  },
  {
   "cell_type": "code",
   "execution_count": 3,
   "metadata": {},
   "outputs": [],
   "source": [
    "def valid_test(dataflow, split, model, device, qiskit=False):\n",
    "    target_all = []\n",
    "    output_all = []\n",
    "    with torch.no_grad():\n",
    "        for feed_dict in dataflow[split]:\n",
    "            inputs = feed_dict['image'].to(device)\n",
    "            targets = feed_dict['digit'].to(device)\n",
    "\n",
    "            outputs = model(inputs)\n",
    "\n",
    "            target_all.append(targets)\n",
    "            output_all.append(outputs)\n",
    "        target_all = torch.cat(target_all, dim=0)\n",
    "        output_all = torch.cat(output_all, dim=0)\n",
    "\n",
    "    _, indices = output_all.topk(1, dim=1)\n",
    "    masks = indices.eq(target_all.view(-1, 1).expand_as(indices))\n",
    "    size = target_all.shape[0]\n",
    "    corrects = masks.sum().item()\n",
    "    accuracy = corrects / size\n",
    "    loss = F.nll_loss(output_all, target_all).item()\n",
    "\n",
    "    print(f\"{split} set accuracy: {accuracy}\")\n",
    "    print(f\"{split} set loss: {loss}\")"
   ]
  },
  {
   "cell_type": "code",
   "execution_count": 4,
   "metadata": {},
   "outputs": [],
   "source": [
    "from q4digit_models import Q4DigitFCModel0"
   ]
  },
  {
   "cell_type": "code",
   "execution_count": 15,
   "metadata": {},
   "outputs": [],
   "source": [
    "def main(epochs=5):\n",
    "\n",
    "    seed = 0\n",
    "    random.seed(seed)\n",
    "    np.random.seed(seed)\n",
    "    torch.manual_seed(seed)\n",
    "\n",
    "    dataset = MNIST(\n",
    "        root='./mnist_data',\n",
    "        train_valid_split_ratio=[0.9, 0.1],\n",
    "        digits_of_interest=[0,1,2,3],\n",
    "        n_test_samples=100,\n",
    "        n_train_samples=500,\n",
    "        fashion=True\n",
    "    )\n",
    "    dataflow = dict()\n",
    "\n",
    "    for split in dataset:\n",
    "        sampler = torch.utils.data.RandomSampler(dataset[split])\n",
    "        dataflow[split] = torch.utils.data.DataLoader(\n",
    "            dataset[split],\n",
    "            batch_size=10,\n",
    "            sampler=sampler,\n",
    "            num_workers=8,\n",
    "            pin_memory=True)\n",
    "\n",
    "    use_cuda = torch.cuda.is_available()\n",
    "    device = torch.device(\"cuda\" if use_cuda else \"cpu\")\n",
    "\n",
    "    configs.load(\"./fashion4.yml\", recursive=True)\n",
    "    configs.model.arch.n_blocks = 8\n",
    "\n",
    "    model = Q4DigitFCModel0(arch=configs.model.arch).to(device)\n",
    "\n",
    "    n_epochs = epochs\n",
    "    optimizer = optim.Adam(model.parameters(), lr=5e-3, weight_decay=1e-4)\n",
    "    scheduler = CosineAnnealingLR(optimizer, T_max=n_epochs)\n",
    "\n",
    "    for epoch in range(1, n_epochs + 1):\n",
    "        # train\n",
    "        print(f\"Epoch {epoch}:\")\n",
    "        train(dataflow, model, device, optimizer)\n",
    "        print(optimizer.param_groups[0]['lr'])\n",
    "\n",
    "        # valid\n",
    "        valid_test(dataflow, 'valid', model, device)\n",
    "        scheduler.step()\n",
    "\n",
    "    # test\n",
    "    valid_test(dataflow, 'test', model, device, qiskit=False)\n",
    "\n",
    "    return model\n"
   ]
  },
  {
   "cell_type": "code",
   "execution_count": 16,
   "metadata": {},
   "outputs": [
    {
     "name": "stderr",
     "output_type": "stream",
     "text": [
      "[2023-05-02 17:40:26.034] Only use the front 500 images as TRAIN set.\n",
      "[2023-05-02 17:40:26.144] Only use the front 100 images as TEST set.\n"
     ]
    },
    {
     "name": "stdout",
     "output_type": "stream",
     "text": [
      "Epoch 1:\n",
      "0.005 1.1090143918991089\n",
      "valid set accuracy: 0.7229166666666667\n",
      "valid set loss: 1.150026798248291\n",
      "Epoch 2:\n",
      "0.0049453690018345145215\n",
      "valid set accuracy: 0.74625\n",
      "valid set loss: 1.083186388015747\n",
      "Epoch 3:\n",
      "0.0047838636441065028604\n",
      "valid set accuracy: 0.7583333333333333\n",
      "valid set loss: 1.0395963191986084\n",
      "Epoch 4:\n",
      "0.0045225424859373685206\n",
      "valid set accuracy: 0.71\n",
      "valid set loss: 1.0277777910232544\n",
      "Epoch 5:\n",
      "0.0041728265158971455192\n",
      "valid set accuracy: 0.7516666666666667\n",
      "valid set loss: 1.010713815689087\n",
      "Epoch 6:\n",
      "0.00375.0349903106689453\n",
      "valid set accuracy: 0.7558333333333334\n",
      "valid set loss: 0.9983078241348267\n",
      "Epoch 7:\n",
      "0.0032725424859373687783\n",
      "valid set accuracy: 0.7820833333333334\n",
      "valid set loss: 0.9919663667678833\n",
      "Epoch 8:\n",
      "0.0027613211581691348452\n",
      "valid set accuracy: 0.7566666666666667\n",
      "valid set loss: 0.9929884672164917\n",
      "Epoch 9:\n",
      "0.0022386788418308670298\n",
      "valid set accuracy: 0.7645833333333333\n",
      "valid set loss: 0.9873986840248108\n",
      "Epoch 10:\n",
      "0.0017274575140626320793\n",
      "valid set accuracy: 0.775\n",
      "valid set loss: 0.9843704104423523\n",
      "Epoch 11:\n",
      "0.0012500000000000007925\n",
      "valid set accuracy: 0.7704166666666666\n",
      "valid set loss: 0.9840630888938904\n",
      "Epoch 12:\n",
      "0.0008271734841028553823\n",
      "valid set accuracy: 0.7633333333333333\n",
      "valid set loss: 0.9837512969970703\n",
      "Epoch 13:\n",
      "0.0004774575140626316369\n",
      "valid set accuracy: 0.765\n",
      "valid set loss: 0.9839941263198853\n",
      "Epoch 14:\n",
      "0.0002161363558934975589\n",
      "valid set accuracy: 0.76375\n",
      "valid set loss: 0.9834014773368835\n",
      "Epoch 15:\n",
      "5.463099816548578e-05146\n",
      "valid set accuracy: 0.7629166666666667\n",
      "valid set loss: 0.9834474921226501\n",
      "test set accuracy: 0.76\n",
      "test set loss: 0.9454787373542786\n"
     ]
    }
   ],
   "source": [
    "model  = main(15)"
   ]
  },
  {
   "cell_type": "code",
   "execution_count": 18,
   "metadata": {},
   "outputs": [],
   "source": [
    "from qdp import evaluate\n",
    "from torchquantum.plugins import tq2qiskit\n",
    "from qiskit2cirq import qiskit2cirq\n",
    "\n",
    "q_layer_circ = tq2qiskit(model.q_device, model.q_layer)\n",
    "circuit = qiskit2cirq(q_layer_circ)"
   ]
  },
  {
   "cell_type": "code",
   "execution_count": 19,
   "metadata": {},
   "outputs": [
    {
     "name": "stdout",
     "output_type": "stream",
     "text": [
      "depolarize, 0.01\n",
      "3.294563055038452\n",
      "depolarize, 0.001\n",
      "3.1790144443511963\n",
      "depolarize, 0.0001\n",
      "3.226712465286255\n",
      "depolarize, 1e-05\n",
      "3.2665882110595703\n",
      "depolarize, 1e-06\n",
      "3.214967727661133\n",
      "bit_flip, 0.01\n",
      "3.2624990940093994\n",
      "bit_flip, 0.001\n",
      "3.27093505859375\n",
      "bit_flip, 0.0001\n",
      "3.297316074371338\n",
      "bit_flip, 1e-05\n",
      "3.263076066970825\n",
      "bit_flip, 1e-06\n",
      "3.261585235595703\n",
      "+------------+---------+----------+------+\n",
      "& noise type & noisy p & kappa    & time &\n",
      "+------------+---------+----------+------+\n",
      "& depolarize & 0.01    & 1.052    & 3.29 &\n",
      "& depolarize & 0.001   & 5.398    & 3.18 &\n",
      "& depolarize & 0.0001  & 53.341   & 3.23 &\n",
      "& depolarize & 1e-05   & 533.000  & 3.27 &\n",
      "& depolarize & 1e-06   & 5225.775 & 3.21 &\n",
      "& bit_flip   & 0.01    & 1.057    & 3.26 &\n",
      "& bit_flip   & 0.001   & 5.635    & 3.27 &\n",
      "& bit_flip   & 0.0001  & 56.156   & 3.30 &\n",
      "& bit_flip   & 1e-05   & 561.962  & 3.26 &\n",
      "& bit_flip   & 1e-06   & 5617.503 & 3.26 &\n",
      "+------------+---------+----------+------+\n"
     ]
    }
   ],
   "source": [
    "evaluate(circuit, [np.array([[0,0],[0,1]]), np.array([[1,0],[0,0]])])"
   ]
  }
 ],
 "metadata": {
  "kernelspec": {
   "display_name": "Python 3",
   "language": "python",
   "name": "python3"
  },
  "language_info": {
   "codemirror_mode": {
    "name": "ipython",
    "version": 3
   },
   "file_extension": ".py",
   "mimetype": "text/x-python",
   "name": "python",
   "nbconvert_exporter": "python",
   "pygments_lexer": "ipython3",
   "version": "3.9.16"
  },
  "orig_nbformat": 4,
  "vscode": {
   "interpreter": {
    "hash": "46244bb114f25b8c00fa37cf1ff1b329d09e67c22a56c050910495480da854c9"
   }
  }
 },
 "nbformat": 4,
 "nbformat_minor": 2
}

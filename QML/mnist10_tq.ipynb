{
 "cells": [
  {
   "cell_type": "code",
   "execution_count": 1,
   "metadata": {},
   "outputs": [],
   "source": [
    "import torch\n",
    "import torch.nn.functional as F\n",
    "import torch.optim as optim\n",
    "\n",
    "from torchpack.utils.config import configs\n",
    "\n",
    "from torchquantum.datasets import MNIST\n",
    "from torch.optim.lr_scheduler import CosineAnnealingLR\n",
    "\n",
    "\n",
    "import random\n",
    "import numpy as np"
   ]
  },
  {
   "cell_type": "code",
   "execution_count": 2,
   "metadata": {},
   "outputs": [],
   "source": [
    "def train(dataflow, model, device, optimizer):\n",
    "    for feed_dict in dataflow['train']:\n",
    "        inputs = feed_dict['image'].to(device)\n",
    "        targets = feed_dict['digit'].to(device)\n",
    "\n",
    "        outputs = model(inputs)\n",
    "        loss = F.nll_loss(outputs, targets)\n",
    "        optimizer.zero_grad()\n",
    "        loss.backward()\n",
    "        optimizer.step()\n",
    "        print(f\"loss: {loss.item()}\", end='\\r')"
   ]
  },
  {
   "cell_type": "code",
   "execution_count": 3,
   "metadata": {},
   "outputs": [],
   "source": [
    "def valid_test(dataflow, split, model, device, qiskit=False):\n",
    "    target_all = []\n",
    "    output_all = []\n",
    "    with torch.no_grad():\n",
    "        for feed_dict in dataflow[split]:\n",
    "            inputs = feed_dict['image'].to(device)\n",
    "            targets = feed_dict['digit'].to(device)\n",
    "\n",
    "            outputs = model(inputs)\n",
    "\n",
    "            target_all.append(targets)\n",
    "            output_all.append(outputs)\n",
    "        target_all = torch.cat(target_all, dim=0)\n",
    "        output_all = torch.cat(output_all, dim=0)\n",
    "\n",
    "    _, indices = output_all.topk(1, dim=1)\n",
    "    masks = indices.eq(target_all.view(-1, 1).expand_as(indices))\n",
    "    size = target_all.shape[0]\n",
    "    corrects = masks.sum().item()\n",
    "    accuracy = corrects / size\n",
    "    loss = F.nll_loss(output_all, target_all).item()\n",
    "\n",
    "    print(f\"{split} set accuracy: {accuracy}\")\n",
    "    print(f\"{split} set loss: {loss}\")"
   ]
  },
  {
   "cell_type": "code",
   "execution_count": 4,
   "metadata": {},
   "outputs": [],
   "source": [
    "from q10digit_models import Q10DigitFCModel0"
   ]
  },
  {
   "cell_type": "code",
   "execution_count": 5,
   "metadata": {},
   "outputs": [],
   "source": [
    "def main(epochs=5):\n",
    "\n",
    "    seed = 0\n",
    "    random.seed(seed)\n",
    "    np.random.seed(seed)\n",
    "    torch.manual_seed(seed)\n",
    "\n",
    "    dataset = MNIST(\n",
    "        root='./mnist_data',\n",
    "        train_valid_split_ratio=[0.9, 0.1],\n",
    "        #digits_of_interest=[3, 6],\n",
    "        n_test_samples=100,\n",
    "        n_train_samples=500,\n",
    "    )\n",
    "    dataflow = dict()\n",
    "\n",
    "    for split in dataset:\n",
    "        sampler = torch.utils.data.RandomSampler(dataset[split])\n",
    "        dataflow[split] = torch.utils.data.DataLoader(\n",
    "            dataset[split],\n",
    "            batch_size=10,\n",
    "            sampler=sampler,\n",
    "            num_workers=8,\n",
    "            pin_memory=True)\n",
    "\n",
    "    use_cuda = torch.cuda.is_available()\n",
    "    device = torch.device(\"cuda\" if use_cuda else \"cpu\")\n",
    "\n",
    "    configs.load(\"/home/fangw/quantum-dp/pytorch-quantum-master/examples/configs/mnist/ten/default.yml\", recursive=True)\n",
    "    configs.model.arch.n_blocks = 8\n",
    "\n",
    "    model = Q10DigitFCModel0(arch=configs.model.arch).to(device)\n",
    "\n",
    "    n_epochs = epochs\n",
    "    optimizer = optim.Adam(model.parameters(), lr=5e-3, weight_decay=1e-4)\n",
    "    scheduler = CosineAnnealingLR(optimizer, T_max=n_epochs)\n",
    "\n",
    "    for epoch in range(1, n_epochs + 1):\n",
    "        # train\n",
    "        print(f\"Epoch {epoch}:\")\n",
    "        train(dataflow, model, device, optimizer)\n",
    "        print(optimizer.param_groups[0]['lr'])\n",
    "\n",
    "        # valid\n",
    "        valid_test(dataflow, 'valid', model, device)\n",
    "        scheduler.step()\n",
    "\n",
    "    # test\n",
    "    valid_test(dataflow, 'test', model, device, qiskit=False)\n",
    "\n",
    "    return model\n"
   ]
  },
  {
   "cell_type": "code",
   "execution_count": 6,
   "metadata": {},
   "outputs": [
    {
     "name": "stderr",
     "output_type": "stream",
     "text": [
      "[2023-05-02 19:05:29.954] Only use the front 500 images as TRAIN set.\n",
      "[2023-05-02 19:05:30.069] Only use the front 100 images as TEST set.\n"
     ]
    },
    {
     "name": "stdout",
     "output_type": "stream",
     "text": [
      "Epoch 1:\n",
      "0.005 2.1975343227386475\n",
      "valid set accuracy: 0.2735\n",
      "valid set loss: 2.228492021560669\n",
      "Epoch 2:\n",
      "0.0049453690018345143066\n",
      "valid set accuracy: 0.2996666666666667\n",
      "valid set loss: 2.193239688873291\n",
      "Epoch 3:\n",
      "0.0047838636441065028066\n",
      "valid set accuracy: 0.322\n",
      "valid set loss: 2.168720245361328\n",
      "Epoch 4:\n",
      "0.0045225424859373685205\n",
      "valid set accuracy: 0.3438333333333333\n",
      "valid set loss: 2.150378704071045\n",
      "Epoch 5:\n",
      "0.0041728265158971455077\n",
      "valid set accuracy: 0.3506666666666667\n",
      "valid set loss: 2.140296697616577\n",
      "Epoch 6:\n",
      "0.00375.9743868112564087\n",
      "valid set accuracy: 0.3601666666666667\n",
      "valid set loss: 2.128539800643921\n",
      "Epoch 7:\n",
      "0.0032725424859373687326\n",
      "valid set accuracy: 0.358\n",
      "valid set loss: 2.121077537536621\n",
      "Epoch 8:\n",
      "0.0027613211581691345925\n",
      "valid set accuracy: 0.36283333333333334\n",
      "valid set loss: 2.1155803203582764\n",
      "Epoch 9:\n",
      "0.0022386788418308675625\n",
      "valid set accuracy: 0.3635\n",
      "valid set loss: 2.110771417617798\n",
      "Epoch 10:\n",
      "0.0017274575140626328125\n",
      "valid set accuracy: 0.36516666666666664\n",
      "valid set loss: 2.1077256202697754\n",
      "Epoch 11:\n",
      "0.0012500000000000007047\n",
      "valid set accuracy: 0.3675\n",
      "valid set loss: 2.10551118850708\n",
      "Epoch 12:\n",
      "0.0008271734841028553834\n",
      "valid set accuracy: 0.36533333333333334\n",
      "valid set loss: 2.1039254665374756\n",
      "Epoch 13:\n",
      "0.0004774575140626316387\n",
      "valid set accuracy: 0.3641666666666667\n",
      "valid set loss: 2.1032657623291016\n",
      "Epoch 14:\n",
      "0.0002161363558934975562\n",
      "valid set accuracy: 0.3641666666666667\n",
      "valid set loss: 2.102858304977417\n",
      "Epoch 15:\n",
      "5.463099816548578e-05692\n",
      "valid set accuracy: 0.36433333333333334\n",
      "valid set loss: 2.102764368057251\n",
      "test set accuracy: 0.4\n",
      "test set loss: 2.0849976539611816\n"
     ]
    }
   ],
   "source": [
    "model  = main(15)"
   ]
  },
  {
   "cell_type": "code",
   "execution_count": 7,
   "metadata": {},
   "outputs": [],
   "source": [
    "from qdp import evaluate\n",
    "import numpy as np\n",
    "from torchquantum.plugins import tq2qiskit\n",
    "from qiskit2cirq import qiskit2cirq\n",
    "\n",
    "q_layer_circ = tq2qiskit(model.q_device, model.q_layer)\n",
    "circuit = qiskit2cirq(q_layer_circ)"
   ]
  },
  {
   "cell_type": "code",
   "execution_count": 8,
   "metadata": {},
   "outputs": [
    {
     "name": "stdout",
     "output_type": "stream",
     "text": [
      "depolarize, 0.01\n",
      "18.902539014816284\n",
      "depolarize, 0.001\n",
      "17.438279628753662\n",
      "depolarize, 0.0001\n",
      "17.828185081481934\n",
      "depolarize, 1e-05\n",
      "16.818902492523193\n",
      "depolarize, 1e-06\n",
      "17.123612642288208\n",
      "bit_flip, 0.01\n",
      "17.39156174659729\n",
      "bit_flip, 0.001\n",
      "17.13722801208496\n",
      "bit_flip, 0.0001\n",
      "17.5580894947052\n",
      "bit_flip, 1e-05\n",
      "16.818037748336792\n",
      "bit_flip, 1e-06\n",
      "17.118456602096558\n",
      "+------------+---------+----------+-------+\n",
      "& noise type & noisy p & kappa    & time  &\n",
      "+------------+---------+----------+-------+\n",
      "& depolarize & 0.01    & 1.170    & 18.90 &\n",
      "& depolarize & 0.001   & 7.241    & 17.44 &\n",
      "& depolarize & 0.0001  & 71.396   & 17.83 &\n",
      "& depolarize & 1e-05   & 712.899  & 16.82 &\n",
      "& depolarize & 1e-06   & 7045.995 & 17.12 &\n",
      "& bit_flip   & 0.01    & 1.132    & 17.39 &\n",
      "& bit_flip   & 0.001   & 6.677    & 17.14 &\n",
      "& bit_flip   & 0.0001  & 66.050   & 17.56 &\n",
      "& bit_flip   & 1e-05   & 660.314  & 16.82 &\n",
      "& bit_flip   & 1e-06   & 6663.058 & 17.12 &\n",
      "+------------+---------+----------+-------+\n"
     ]
    }
   ],
   "source": [
    "evaluate(circuit, [np.array([[0,0],[0,1]]), np.array([[1,0],[0,0]])])"
   ]
  }
 ],
 "metadata": {
  "kernelspec": {
   "display_name": "Python 3 (ipykernel)",
   "language": "python",
   "name": "python3"
  },
  "language_info": {
   "codemirror_mode": {
    "name": "ipython",
    "version": 3
   },
   "file_extension": ".py",
   "mimetype": "text/x-python",
   "name": "python",
   "nbconvert_exporter": "python",
   "pygments_lexer": "ipython3",
   "version": "3.9.16"
  },
  "vscode": {
   "interpreter": {
    "hash": "46244bb114f25b8c00fa37cf1ff1b329d09e67c22a56c050910495480da854c9"
   }
  }
 },
 "nbformat": 4,
 "nbformat_minor": 2
}

{
 "cells": [
  {
   "cell_type": "code",
   "execution_count": 1,
   "metadata": {},
   "outputs": [],
   "source": [
    "from quantum_simulator.fortran_omp_merge import FortranOMPMerge\n",
    "from quantum_simulator.fortran_omp import FortranOMP\n",
    "from quantum_simulator.c_omp import COmp\n",
    "from quantum_simulator.qiskit_wrapper import QiskitWrapper\n",
    "from quantum_simulator.pyqpanda_wrapper import PyQpandaWrapper\n",
    "import time\n",
    "\n",
    "nq = 26\n",
    "layers = 26\n",
    "\n",
    "def get_time_of_sim(nq, layers, sim, **kw):\n",
    "    start = time.time()\n",
    "    qc = sim(nq, **kw)\n",
    "    for _ in range(layers):\n",
    "        for i in range(nq):\n",
    "            qc.RY(i, 0.61)\n",
    "        for i in range(nq - 1):\n",
    "            qc.CZ(i, i + 1)\n",
    "    qc.state()\n",
    "    end = time.time()\n",
    "    return end - start"
   ]
  },
  {
   "cell_type": "code",
   "execution_count": 2,
   "metadata": {},
   "outputs": [
    {
     "data": {
      "text/plain": [
       "24.5740966796875"
      ]
     },
     "execution_count": 2,
     "metadata": {},
     "output_type": "execute_result"
    }
   ],
   "source": [
    "get_time_of_sim(nq, layers, QiskitWrapper)"
   ]
  },
  {
   "cell_type": "code",
   "execution_count": 3,
   "metadata": {},
   "outputs": [
    {
     "data": {
      "text/plain": [
       "45.41904139518738"
      ]
     },
     "execution_count": 3,
     "metadata": {},
     "output_type": "execute_result"
    }
   ],
   "source": [
    "get_time_of_sim(\n",
    "    nq,\n",
    "    layers,\n",
    "    QiskitWrapper,\n",
    "    max_parallel_threads=0,\n",
    "    fusion_enable=True,\n",
    "    fusion_verbose=False,\n",
    "    fusion_max_qubit=2,\n",
    "    fusion_threshold=14\n",
    ")"
   ]
  },
  {
   "cell_type": "code",
   "execution_count": 4,
   "metadata": {},
   "outputs": [
    {
     "data": {
      "text/plain": [
       "43.875088930130005"
      ]
     },
     "execution_count": 4,
     "metadata": {},
     "output_type": "execute_result"
    }
   ],
   "source": [
    "get_time_of_sim(nq, layers, FortranOMPMerge)"
   ]
  },
  {
   "cell_type": "code",
   "execution_count": 2,
   "metadata": {},
   "outputs": [
    {
     "data": {
      "text/plain": [
       "123.62354445457458"
      ]
     },
     "execution_count": 2,
     "metadata": {},
     "output_type": "execute_result"
    }
   ],
   "source": [
    "get_time_of_sim(\n",
    "    nq,\n",
    "    layers,\n",
    "    QiskitWrapper,\n",
    "    max_parallel_threads=0,\n",
    "    fusion_enable=False,\n",
    ")"
   ]
  },
  {
   "cell_type": "code",
   "execution_count": 3,
   "metadata": {},
   "outputs": [
    {
     "data": {
      "text/plain": [
       "123.43911099433899"
      ]
     },
     "execution_count": 3,
     "metadata": {},
     "output_type": "execute_result"
    }
   ],
   "source": [
    "get_time_of_sim(nq, layers, FortranOMP)"
   ]
  },
  {
   "cell_type": "code",
   "execution_count": 7,
   "metadata": {},
   "outputs": [
    {
     "data": {
      "text/plain": [
       "47.647625207901"
      ]
     },
     "execution_count": 7,
     "metadata": {},
     "output_type": "execute_result"
    }
   ],
   "source": [
    "get_time_of_sim(nq, layers, PyQpandaWrapper)"
   ]
  },
  {
   "cell_type": "code",
   "execution_count": 8,
   "metadata": {},
   "outputs": [
    {
     "data": {
      "text/plain": [
       "59.89814519882202"
      ]
     },
     "execution_count": 8,
     "metadata": {},
     "output_type": "execute_result"
    }
   ],
   "source": [
    "get_time_of_sim(nq, layers, COmp, version=0)"
   ]
  },
  {
   "cell_type": "code",
   "execution_count": 9,
   "metadata": {},
   "outputs": [
    {
     "data": {
      "text/plain": [
       "59.431779623031616"
      ]
     },
     "execution_count": 9,
     "metadata": {},
     "output_type": "execute_result"
    }
   ],
   "source": [
    "get_time_of_sim(nq, layers, COmp, version=1)"
   ]
  }
 ],
 "metadata": {
  "kernelspec": {
   "display_name": "qcis_sim",
   "language": "python",
   "name": "python3"
  },
  "language_info": {
   "codemirror_mode": {
    "name": "ipython",
    "version": 3
   },
   "file_extension": ".py",
   "mimetype": "text/x-python",
   "name": "python",
   "nbconvert_exporter": "python",
   "pygments_lexer": "ipython3",
   "version": "3.10.14"
  }
 },
 "nbformat": 4,
 "nbformat_minor": 2
}

{
 "cells": [
  {
   "cell_type": "markdown",
   "metadata": {},
   "source": [
    "# 5.2.8 量子机器学习模型的隐私性验证测试"
   ]
  },
  {
   "cell_type": "markdown",
   "metadata": {},
   "source": [
    "\n",
    "\n",
    "- 输出量子近似优化算法（QAOA）的条件数计算结果"
   ]
  },
  {
   "cell_type": "code",
   "execution_count": 1,
   "metadata": {},
   "outputs": [
    {
     "name": "stderr",
     "output_type": "stream",
     "text": [
      "An NVIDIA GPU may be present on this machine, but a CUDA-enabled jaxlib is not installed. Falling back to cpu.\n"
     ]
    },
    {
     "name": "stdout",
     "output_type": "stream",
     "text": [
      "==========Evaluate largest eigenvalue==========\n",
      "iter 99/100, 0.98438019, elapsed time: 0.0006s\n",
      "===============================================\n",
      "=========Evaluate smallest eigenvalue==========\n",
      "iter 99/100, 0.01584363, elapsed time: 0.0007s\n",
      "===============================================\n",
      "Circuit: QAOA/qaoa_10.qasm\n",
      "Noise configuration: <function depolarize at 0x7fb2a9b49d80>, 0.010000\n",
      "Total execution time: 16.3294s\n",
      "Condition Number: 62.130978\n",
      "(The max/min eigenvalues are: 0.9844, 0.0158)\n"
     ]
    },
    {
     "data": {
      "text/plain": [
       "(Array(62.130978, dtype=float32),\n",
       " Array(0.9843802, dtype=float32),\n",
       " Array(0.01584363, dtype=float32))"
      ]
     },
     "execution_count": 1,
     "metadata": {},
     "output_type": "execute_result"
    }
   ],
   "source": [
    "from qkappa import *\n",
    "import numpy as np\n",
    "testFile('QAOA/qaoa_10.qasm')"
   ]
  },
  {
   "cell_type": "markdown",
   "metadata": {},
   "source": [
    "- 输出变分量子本征求解器算法（VQE）的条件数计算结果"
   ]
  },
  {
   "cell_type": "code",
   "execution_count": 2,
   "metadata": {},
   "outputs": [
    {
     "name": "stdout",
     "output_type": "stream",
     "text": [
      "==========Evaluate largest eigenvalue==========\n",
      "iter 11/100, 0.99324316, elapsed time: 0.0001s\n",
      "===============================================\n",
      "=========Evaluate smallest eigenvalue==========\n",
      "iter 11/100, 0.00676996, elapsed time: 0.0002s\n",
      "===============================================\n",
      "Circuit: HFVQE/hf_6_0_5.qasm\n",
      "Noise configuration: <function depolarize at 0x7fb2a9b49d80>, 0.010000\n",
      "Total execution time: 3.6708s\n",
      "Condition Number: 146.713409\n",
      "(The max/min eigenvalues are: 0.9932, 0.0068)\n"
     ]
    },
    {
     "data": {
      "text/plain": [
       "(Array(146.71341, dtype=float32),\n",
       " Array(0.99324316, dtype=float32),\n",
       " Array(0.00676996, dtype=float32))"
      ]
     },
     "execution_count": 2,
     "metadata": {},
     "output_type": "execute_result"
    }
   ],
   "source": [
    "testFile('HFVQE/hf_6_0_5.qasm')"
   ]
  },
  {
   "cell_type": "markdown",
   "metadata": {},
   "source": [
    "- 正常输出量子优越性算法的条件数计算结果"
   ]
  },
  {
   "cell_type": "code",
   "execution_count": 3,
   "metadata": {},
   "outputs": [
    {
     "name": "stdout",
     "output_type": "stream",
     "text": [
      "==========Evaluate largest eigenvalue==========\n",
      "iter 11/100, 0.98675460, elapsed time: 0.0019s\n",
      "===============================================\n",
      "=========Evaluate smallest eigenvalue==========\n",
      "iter 11/100, 0.01324511, elapsed time: 0.0022s\n",
      "===============================================\n",
      "Circuit: inst/inst_4x4_3_0.qasm\n",
      "Noise configuration: <function depolarize at 0x7fb2a9b49d80>, 0.010000\n",
      "Total execution time: 3.2071s\n",
      "Condition Number: 74.499565\n",
      "(The max/min eigenvalues are: 0.9868, 0.0132)\n"
     ]
    },
    {
     "data": {
      "text/plain": [
       "(Array(74.499565, dtype=float32),\n",
       " Array(0.9867546, dtype=float32),\n",
       " Array(0.01324511, dtype=float32))"
      ]
     },
     "execution_count": 3,
     "metadata": {},
     "output_type": "execute_result"
    }
   ],
   "source": [
    "testFile('inst/inst_4x4_3_0.qasm')"
   ]
  },
  {
   "cell_type": "markdown",
   "metadata": {},
   "source": [
    "- 正确性测试"
   ]
  },
  {
   "cell_type": "code",
   "execution_count": 4,
   "metadata": {},
   "outputs": [],
   "source": [
    "def answer_gen():\n",
    "    dic = {}\n",
    "    dic[('hf_8_0_5.qasm', \"dep\", 0.01)] = 135.50\n",
    "    dic[('hf_8_0_5.qasm', \"dep\", 0.001)] = 1412.58\n",
    "    dic[('hf_8_0_5.qasm', \"bit\", 0.01)] = 98.39\n",
    "    dic[('hf_8_0_5.qasm', \"bit\", 0.001)] = 991.73\n",
    "\n",
    "    dic[('hf_10_0_5.qasm', \"dep\", 0.01)] = 132.21\n",
    "    dic[('hf_10_0_5.qasm', \"dep\", 0.001)] = 1432.75\n",
    "    dic[('hf_10_0_5.qasm', \"bit\", 0.01)] = 97.64\n",
    "    dic[('hf_10_0_5.qasm', \"bit\", 0.001)] = 988.26\n",
    "\n",
    "    dic[('hf_12_0_5.qasm', \"dep\", 0.01)] = 140.58\n",
    "    dic[('hf_12_0_5.qasm', \"dep\", 0.001)] = 1438.94\n",
    "    dic[('hf_12_0_5.qasm', \"bit\", 0.01)] = 95.27\n",
    "    dic[('hf_12_0_5.qasm', \"bit\", 0.001)] = 978.87\n",
    "\n",
    "    return dic\n",
    "\n"
   ]
  },
  {
   "cell_type": "code",
   "execution_count": 5,
   "metadata": {},
   "outputs": [],
   "source": [
    "def dp_test(epsilon, eta, kappa):\n",
    "    epsilon_star = np.log((kappa-1)*eta+1)\n",
    "    return epsilon>epsilon_star\n",
    "\n",
    "eta = 1\n",
    "epsilon = 5\n",
    "\n",
    "def validation():\n",
    "    for file in os.listdir('Test_Benchmarks/'):\n",
    "        k_test = testFile('Test_Benchmarks/'+file, cirq.depolarize, 0.01)[0]\n",
    "        k_truth = answer_gen()[(file, \"dep\", 0.01)]\n",
    "        assert(dp_test(epsilon, eta, k_test) == dp_test(epsilon, eta, k_truth))\n",
    "        k_test = testFile('Test_Benchmarks/'+file, cirq.depolarize, 0.001)[0]\n",
    "        k_truth = answer_gen()[(file, \"dep\", 0.001)]\n",
    "        assert(dp_test(epsilon, eta, k_test) == dp_test(epsilon, eta, k_truth))\n",
    "        k_test = testFile('Test_Benchmarks/'+file, cirq.bit_flip, 0.01)[0]\n",
    "        k_truth = answer_gen()[(file, \"bit\", 0.01)]\n",
    "        assert(dp_test(epsilon, eta, k_test) == dp_test(epsilon, eta, k_truth))\n",
    "        k_test = testFile('Test_Benchmarks/'+file, cirq.bit_flip, 0.001)[0]\n",
    "        k_truth = answer_gen()[(file, \"bit\", 0.001)]\n",
    "        assert(dp_test(epsilon, eta, k_test) == dp_test(epsilon, eta, k_truth))\n",
    "    print(\"Validation Passed\")\n"
   ]
  },
  {
   "cell_type": "code",
   "execution_count": 6,
   "metadata": {},
   "outputs": [
    {
     "name": "stdout",
     "output_type": "stream",
     "text": [
      "==========Evaluate largest eigenvalue==========\n",
      "iter 99/100, 0.99207377, elapsed time: 0.0021s\n",
      "===============================================\n",
      "=========Evaluate smallest eigenvalue==========\n",
      "iter 99/100, 0.00784659, elapsed time: 0.0008s\n",
      "===============================================\n",
      "Circuit: Test_Benchmarks/hf_8_0_5.qasm\n",
      "Noise configuration: <function depolarize at 0x7fb2a9b49d80>, 0.010000\n",
      "Total execution time: 18.4783s\n",
      "Condition Number: 126.433685\n",
      "(The max/min eigenvalues are: 0.9921, 0.0078)\n",
      "==========Evaluate largest eigenvalue==========\n",
      "iter 11/100, 0.99916971, elapsed time: 0.0022s\n",
      "===============================================\n",
      "=========Evaluate smallest eigenvalue==========\n",
      "iter 11/100, 0.00085342, elapsed time: 0.0011s\n",
      "===============================================\n",
      "Circuit: Test_Benchmarks/hf_8_0_5.qasm\n",
      "Noise configuration: <function depolarize at 0x7fb2a9b49d80>, 0.001000\n",
      "Total execution time: 5.2232s\n",
      "Condition Number: 1170.784058\n",
      "(The max/min eigenvalues are: 0.9992, 0.0009)\n",
      "==========Evaluate largest eigenvalue==========\n",
      "iter 99/100, 0.98901302, elapsed time: 0.0012s\n",
      "===============================================\n",
      "=========Evaluate smallest eigenvalue==========\n",
      "iter 99/100, 0.01113844, elapsed time: 0.0017s\n",
      "===============================================\n",
      "Circuit: Test_Benchmarks/hf_8_0_5.qasm\n",
      "Noise configuration: <function bit_flip at 0x7fb2a9b61ea0>, 0.010000\n",
      "Total execution time: 18.3685s\n",
      "Condition Number: 88.792786\n",
      "(The max/min eigenvalues are: 0.9890, 0.0111)\n",
      "==========Evaluate largest eigenvalue==========\n",
      "iter 11/100, 0.99885786, elapsed time: 0.0069s\n",
      "===============================================\n",
      "=========Evaluate smallest eigenvalue==========\n",
      "iter 11/100, 0.00113142, elapsed time: 0.0015s\n",
      "===============================================\n",
      "Circuit: Test_Benchmarks/hf_8_0_5.qasm\n",
      "Noise configuration: <function bit_flip at 0x7fb2a9b61ea0>, 0.001000\n",
      "Total execution time: 5.3468s\n",
      "Condition Number: 882.839233\n",
      "(The max/min eigenvalues are: 0.9989, 0.0011)\n",
      "==========Evaluate largest eigenvalue==========\n",
      "iter 21/100, 0.99246377, elapsed time: 0.0160s\n",
      "===============================================\n",
      "=========Evaluate smallest eigenvalue==========\n",
      "iter 11/100, 0.00730848, elapsed time: 0.0442s\n",
      "===============================================\n",
      "Circuit: Test_Benchmarks/hf_10_0_5.qasm\n",
      "Noise configuration: <function depolarize at 0x7fb2a9b49d80>, 0.010000\n",
      "Total execution time: 8.5391s\n",
      "Condition Number: 135.796143\n",
      "(The max/min eigenvalues are: 0.9925, 0.0073)\n",
      "==========Evaluate largest eigenvalue==========\n",
      "iter 11/100, 0.99923533, elapsed time: 0.0156s\n",
      "===============================================\n",
      "=========Evaluate smallest eigenvalue==========\n",
      "iter 11/100, 0.00073892, elapsed time: 0.0164s\n",
      "===============================================\n",
      "Circuit: Test_Benchmarks/hf_10_0_5.qasm\n",
      "Noise configuration: <function depolarize at 0x7fb2a9b49d80>, 0.001000\n",
      "Total execution time: 7.1376s\n",
      "Condition Number: 1352.293823\n",
      "(The max/min eigenvalues are: 0.9992, 0.0007)\n",
      "==========Evaluate largest eigenvalue==========\n",
      "iter 11/100, 0.98993325, elapsed time: 0.0105s\n",
      "===============================================\n",
      "=========Evaluate smallest eigenvalue==========\n",
      "iter 11/100, 0.01005346, elapsed time: 0.0117s\n",
      "===============================================\n",
      "Circuit: Test_Benchmarks/hf_10_0_5.qasm\n",
      "Noise configuration: <function bit_flip at 0x7fb2a9b61ea0>, 0.010000\n",
      "Total execution time: 7.2170s\n",
      "Condition Number: 98.466965\n",
      "(The max/min eigenvalues are: 0.9899, 0.0101)\n",
      "==========Evaluate largest eigenvalue==========\n",
      "iter 11/100, 0.99898118, elapsed time: 0.0676s\n",
      "===============================================\n",
      "=========Evaluate smallest eigenvalue==========\n",
      "iter 11/100, 0.00101835, elapsed time: 0.0448s\n",
      "===============================================\n",
      "Circuit: Test_Benchmarks/hf_10_0_5.qasm\n",
      "Noise configuration: <function bit_flip at 0x7fb2a9b61ea0>, 0.001000\n",
      "Total execution time: 8.2007s\n",
      "Condition Number: 980.984680\n",
      "(The max/min eigenvalues are: 0.9990, 0.0010)\n",
      "Validation Passed\n"
     ]
    }
   ],
   "source": [
    "validation()"
   ]
  }
 ],
 "metadata": {
  "kernelspec": {
   "display_name": "Python 3.10.14 ('QDP')",
   "language": "python",
   "name": "python3"
  },
  "language_info": {
   "codemirror_mode": {
    "name": "ipython",
    "version": 3
   },
   "file_extension": ".py",
   "mimetype": "text/x-python",
   "name": "python",
   "nbconvert_exporter": "python",
   "pygments_lexer": "ipython3",
   "version": "3.10.14"
  },
  "vscode": {
   "interpreter": {
    "hash": "f0d8cfdba4c878cde21aa873401b4ffe57a0fa7ffa319c2b5f750869204c2f9f"
   }
  }
 },
 "nbformat": 4,
 "nbformat_minor": 2
}

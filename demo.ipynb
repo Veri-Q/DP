{
 "cells": [
  {
   "cell_type": "markdown",
   "metadata": {},
   "source": [
    "# 5.2.8 量子机器学习模型的隐私性验证测试"
   ]
  },
  {
   "cell_type": "markdown",
   "metadata": {},
   "source": [
    "1. 查验模型隐私性原型软件\n",
    "\n",
    "预期结果：显示模型隐私性原型软件\n",
    "\n",
    "2. 查看模型功能操作介绍文档\n",
    "\n",
    "预期结果：显示文档内容"
   ]
  },
  {
   "cell_type": "markdown",
   "metadata": {},
   "source": [
    "3. 测试工具原型的运行情况\n",
    "\n",
    "预期结果：\n",
    "\n",
    "- 正常输出量子近似优化算法（QAOA）的隐私性的结果"
   ]
  },
  {
   "cell_type": "code",
   "execution_count": 1,
   "metadata": {},
   "outputs": [
    {
     "name": "stderr",
     "output_type": "stream",
     "text": [
      "An NVIDIA GPU may be present on this machine, but a CUDA-enabled jaxlib is not installed. Falling back to cpu.\n"
     ]
    },
    {
     "name": "stdout",
     "output_type": "stream",
     "text": [
      "==========Evaluate largest eigenvalue==========\n",
      "iter 99/100, 0.98435557, elapsed time: 0.0009s\n",
      "===============================================\n",
      "=========Evaluate smallest eigenvalue==========\n",
      "iter 99/100, 0.01578450, elapsed time: 0.0011s\n",
      "===============================================\n",
      "Circuit: QAOA/qaoa_10.qasm\n",
      "Noise configuration: <function depolarize at 0x7f6435e51d80>, 0.010000\n",
      "Total execution time: 17.1907s\n",
      "Condition Number: 62.362156\n",
      "(The max/min eigenvalues are: 0.9844, 0.0158)\n"
     ]
    }
   ],
   "source": [
    "from qkappa import *\n",
    "testFile('QAOA/qaoa_10.qasm')"
   ]
  },
  {
   "cell_type": "markdown",
   "metadata": {},
   "source": [
    "- 正常输出变分量子本征求解器算法（VQE）的隐私性的结果"
   ]
  },
  {
   "cell_type": "code",
   "execution_count": 2,
   "metadata": {},
   "outputs": [
    {
     "name": "stdout",
     "output_type": "stream",
     "text": [
      "==========Evaluate largest eigenvalue==========\n",
      "iter 11/100, 0.99325037, elapsed time: 0.0001s\n",
      "===============================================\n",
      "=========Evaluate smallest eigenvalue==========\n",
      "iter 11/100, 0.00676906, elapsed time: 0.0001s\n",
      "===============================================\n",
      "Circuit: HFVQE/hf_6_0_5.qasm\n",
      "Noise configuration: <function depolarize at 0x7f6435e51d80>, 0.010000\n",
      "Total execution time: 3.5639s\n",
      "Condition Number: 146.733841\n",
      "(The max/min eigenvalues are: 0.9933, 0.0068)\n"
     ]
    }
   ],
   "source": [
    "testFile('HFVQE/hf_6_0_5.qasm')"
   ]
  },
  {
   "cell_type": "markdown",
   "metadata": {},
   "source": [
    "- 正常输出量子近似优化算法（QAOA）的隐私性的结果"
   ]
  },
  {
   "cell_type": "code",
   "execution_count": 3,
   "metadata": {},
   "outputs": [
    {
     "name": "stdout",
     "output_type": "stream",
     "text": [
      "==========Evaluate largest eigenvalue==========\n",
      "iter 11/100, 0.98675489, elapsed time: 0.0019s\n",
      "===============================================\n",
      "=========Evaluate smallest eigenvalue==========\n",
      "iter 11/100, 0.01324546, elapsed time: 0.0021s\n",
      "===============================================\n",
      "Circuit: inst/inst_4x4_3_0.qasm\n",
      "Noise configuration: <function depolarize at 0x7f6435e51d80>, 0.010000\n",
      "Total execution time: 3.1698s\n",
      "Condition Number: 74.497574\n",
      "(The max/min eigenvalues are: 0.9868, 0.0132)\n"
     ]
    }
   ],
   "source": [
    "testFile('inst/inst_4x4_3_0.qasm')"
   ]
  }
 ],
 "metadata": {
  "kernelspec": {
   "display_name": "QDP",
   "language": "python",
   "name": "python3"
  },
  "language_info": {
   "codemirror_mode": {
    "name": "ipython",
    "version": 3
   },
   "file_extension": ".py",
   "mimetype": "text/x-python",
   "name": "python",
   "nbconvert_exporter": "python",
   "pygments_lexer": "ipython3",
   "version": "3.10.14"
  }
 },
 "nbformat": 4,
 "nbformat_minor": 2
}
